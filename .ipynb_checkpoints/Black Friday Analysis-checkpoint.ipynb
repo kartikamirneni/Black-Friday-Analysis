{
 "cells": [
  {
   "cell_type": "code",
   "execution_count": null,
   "metadata": {},
   "outputs": [],
   "source": [
    "import sys\n",
    "import numpy as np\n",
    "import pandas as pd\n",
    "\n",
    "import xgboost as xgb\n",
    "\n",
    "from sklearn import preprocessing\n",
    "from sklearn.ensemble import RandomForestRegressor\n",
    "from sklearn.ensemble import ExtraTreesRegressor\n",
    "from sklearn.cross_validation import KFold\n",
    "\n",
    "from sklearn.feature_extraction import DictVectorizer\n",
    "from sklearn import linear_model\n",
    "from sklearn.feature_extraction.text import TfidfTransformer\n"
   ]
  },
  {
   "cell_type": "code",
   "execution_count": null,
   "metadata": {},
   "outputs": [],
   "source": [
    "train = pd.read_csv(\"/Users/Home/Documents/Python Scripts/Black Friday/train_bf.csv\") \n",
    "test = pd.read_csv(\"/Users/Home/Documents/Python Scripts/Black Friday/test_bf.csv\") \n"
   ]
  },
  {
   "cell_type": "code",
   "execution_count": null,
   "metadata": {
    "collapsed": true
   },
   "outputs": [],
   "source": [
    "train_bf = train.copy()\n",
    "test_bf = test.copy()"
   ]
  },
  {
   "cell_type": "code",
   "execution_count": null,
   "metadata": {
    "collapsed": true
   },
   "outputs": [],
   "source": [
    "train_pur_reg = np.array(train[\"Purchase\"])\n",
    "test_pur_reg = np.array(test[\"Purchase\"])"
   ]
  },
  {
   "cell_type": "code",
   "execution_count": null,
   "metadata": {},
   "outputs": [],
   "source": [
    "train_bf.describe()"
   ]
  },
  {
   "cell_type": "code",
   "execution_count": null,
   "metadata": {},
   "outputs": [],
   "source": [
    "test_bf.describe()"
   ]
  },
  {
   "cell_type": "code",
   "execution_count": null,
   "metadata": {},
   "outputs": [],
   "source": [
    "train_bf.head()"
   ]
  },
  {
   "cell_type": "code",
   "execution_count": null,
   "metadata": {},
   "outputs": [],
   "source": [
    "test_bf.head()"
   ]
  },
  {
   "cell_type": "code",
   "execution_count": null,
   "metadata": {},
   "outputs": [],
   "source": [
    "train_bf = train_bf.fillna(train_bf['Product_Category_2'].value_counts().index[0])\n",
    "train_bf = train_bf.fillna(train_bf['Product_Category_3'].value_counts().index[0])\n",
    "\n",
    "\n",
    "test_bf = test_bf.fillna(test_bf['Product_Category_2'].value_counts().index[0])\n",
    "test_bf = test_bf.fillna(test_bf['Product_Category_3'].value_counts().index[0])"
   ]
  },
  {
   "cell_type": "code",
   "execution_count": null,
   "metadata": {},
   "outputs": [],
   "source": [
    "train_bf.drop('Purchase',axis=1)\n",
    "test_bf.drop('Purchase',axis=1)"
   ]
  },
  {
   "cell_type": "code",
   "execution_count": null,
   "metadata": {
    "collapsed": true
   },
   "outputs": [],
   "source": [
    "train_cat_to_num = {\"Stay_In_Current_City_Years\": {\"4+\": 4,},\n",
    "              \"Age\": {\"0-17\": 15, \"18-25\": 21, \"26-35\": 30, \"36-45\": 40,\"46-50\": 48, \"51-55\": 12, \"55+\":60 }}\n",
    "\n",
    "test_cat_to_num = {\"Stay_In_Current_City_Years\": {\"4+\": 4,},\n",
    "              \"Age\": {\"0-17\": 15, \"18-25\": 21, \"26-35\": 30, \"36-45\": 40,\"46-50\": 48, \"51-55\": 12, \"55+\":60 }}"
   ]
  },
  {
   "cell_type": "code",
   "execution_count": null,
   "metadata": {},
   "outputs": [],
   "source": [
    "from sklearn.preprocessing import LabelEncoder\n",
    "\n",
    "train_make = LabelEncoder()\n",
    "train_bf[\"City_Category_Num\"] = train_make.fit_transform(train_bf[\"City_Category\"])\n",
    "train_bf[[\"City_Category_Num\", \"City_Category\"]].head(11)\n",
    "\n",
    "test_make = LabelEncoder()\n",
    "test_bf[\"City_Category_Num\"] = test_make.fit_transform(test_bf[\"City_Category\"])\n",
    "test_bf[[\"City_Category_Num\", \"City_Category\"]].head(11)"
   ]
  },
  {
   "cell_type": "code",
   "execution_count": null,
   "metadata": {},
   "outputs": [],
   "source": [
    "train_bf.replace(train_cat_to_num, inplace=True)\n",
    "train_bf.head()"
   ]
  },
  {
   "cell_type": "code",
   "execution_count": null,
   "metadata": {},
   "outputs": [],
   "source": [
    "test_bf.replace(test_cat_to_num, inplace=True)\n",
    "test_bf.head()"
   ]
  },
  {
   "cell_type": "code",
   "execution_count": null,
   "metadata": {
    "collapsed": true
   },
   "outputs": [],
   "source": [
    "train_bf[\"Gender\"] = np.where(train_bf[\"Gender\"].str.contains(\"F\"), 1,0)\n",
    "\n",
    "test_bf[\"Gender\"] = np.where(test_bf[\"Gender\"].str.contains(\"F\"), 1,0)"
   ]
  },
  {
   "cell_type": "code",
   "execution_count": null,
   "metadata": {},
   "outputs": [],
   "source": [
    "train_bf.head()"
   ]
  },
  {
   "cell_type": "code",
   "execution_count": null,
   "metadata": {},
   "outputs": [],
   "source": [
    "test_bf.head()"
   ]
  },
  {
   "cell_type": "code",
   "execution_count": null,
   "metadata": {
    "scrolled": true
   },
   "outputs": [],
   "source": [
    "train_bf = train_bf.applymap(str)\n",
    "train_bf.dtypes\n",
    "print (train_bf.dtypes)"
   ]
  },
  {
   "cell_type": "code",
   "execution_count": null,
   "metadata": {},
   "outputs": [],
   "source": [
    "test_bf = test_bf.applymap(str)\n",
    "test_bf.dtypes\n",
    "print (test_bf.dtypes)"
   ]
  },
  {
   "cell_type": "code",
   "execution_count": null,
   "metadata": {
    "collapsed": true
   },
   "outputs": [],
   "source": [
    "train_bf = np.array(train_bf)\n",
    "\n",
    "for i in range(train_bf.shape[1]):\n",
    "    lbl = preprocessing.LabelEncoder()\n",
    "    lbl.fit(list(train_bf[:,i]))\n",
    "    train_bf[:, i] = lbl.transform(train_bf[:, i])\n",
    "train_bf = train_bf.astype(int)"
   ]
  },
  {
   "cell_type": "code",
   "execution_count": null,
   "metadata": {
    "collapsed": true
   },
   "outputs": [],
   "source": [
    "test_bf = np.array(test_bf)\n",
    "\n",
    "for i in range(test_bf.shape[1]):\n",
    "    lbl = preprocessing.LabelEncoder()\n",
    "    lbl.fit(list(test_bf[:,i]))\n",
    "    test_bf[:, i] = lbl.transform(test_bf[:, i])\n",
    "test_bf = test_bf.astype(int)"
   ]
  },
  {
   "cell_type": "code",
   "execution_count": null,
   "metadata": {
    "collapsed": true
   },
   "outputs": [],
   "source": [
    "params = {}\n",
    "params[\"min_child_weight\"] = 20\n",
    "params[\"subsample\"] = 0.7\n",
    "params[\"colsample_bytree\"] = 0.7\n",
    "params[\"scale_pos_weight\"] = 0.8\n",
    "params[\"silent\"] = 1\n",
    "params[\"max_depth\"] = 10\n",
    "params[\"nthread\"] = 6\n",
    "params[\"objective\"] = \"reg:linear\"\n",
    "params[\"eta\"] = 0.1\n",
    "params[\"base_score\"] = 1800\n",
    "params[\"eval_metric\"] = \"rmse\"\n",
    "params[\"seed\"] = 0\n",
    "\n",
    "plst = list(params.items())\n",
    "num_rounds = 254"
   ]
  },
  {
   "cell_type": "code",
   "execution_count": null,
   "metadata": {
    "collapsed": true
   },
   "outputs": [],
   "source": [
    "xgtrain = xgb.DMatrix(train_bf[:train_bf.shape[0],:],label=train_pur_reg)\n",
    "watchlist = [(xgtrain, 'train')]\n",
    "model = xgb.train(plst, xgtrain, num_rounds)\n",
    "\n",
    "xgtest = xgb.DMatrix(test_bf[:test_bf.shape[0],:],label=test_pur_reg)\n"
   ]
  },
  {
   "cell_type": "code",
   "execution_count": null,
   "metadata": {
    "collapsed": true
   },
   "outputs": [],
   "source": [
    "pred=model.predict(xgtest)"
   ]
  },
  {
   "cell_type": "code",
   "execution_count": null,
   "metadata": {},
   "outputs": [],
   "source": [
    "test['Purchase'] = pred\n",
    "test.to_csv('final_xgb.csv', columns=['User_ID', 'Product_ID', 'Purchase'], index=False)"
   ]
  },
  {
   "cell_type": "code",
   "execution_count": null,
   "metadata": {},
   "outputs": [],
   "source": [
    "xgb.cv(params, xgtrain, num_rounds, nfold=5, seed=2244)\n"
   ]
  },
  {
   "cell_type": "code",
   "execution_count": null,
   "metadata": {
    "collapsed": true
   },
   "outputs": [],
   "source": []
  }
 ],
 "metadata": {
  "kernelspec": {
   "display_name": "Python 3",
   "language": "python",
   "name": "python3"
  },
  "language_info": {
   "codemirror_mode": {
    "name": "ipython",
    "version": 3
   },
   "file_extension": ".py",
   "mimetype": "text/x-python",
   "name": "python",
   "nbconvert_exporter": "python",
   "pygments_lexer": "ipython3",
   "version": "3.6.1"
  }
 },
 "nbformat": 4,
 "nbformat_minor": 2
}
